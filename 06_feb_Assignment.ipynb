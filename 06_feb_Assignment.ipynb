{
 "cells": [
  {
   "cell_type": "markdown",
   "id": "05fb957a-eaee-41fe-a319-7b7db798c366",
   "metadata": {},
   "source": [
    "Q1. Create a function which will take a list as an argument and return the product of all the numbers\n",
    "after creating a flat list.\n",
    "Use the below-given list as an argument for your function.\n",
    "list1 = [1,2,3,4, [44,55,66, True], False, (34,56,78,89,34), {1,2,3,3,2,1}, {1:34, \"key2\": [55, 67, 78, 89], 4: (45,\n",
    "22, 61, 34)}, [56, 'data science'], 'Machine Learning']\n",
    "\n",
    "Note: you must extract numeric keys and values of the dictionary also."
   ]
  },
  {
   "cell_type": "code",
   "execution_count": 11,
   "id": "56af123d-4821-4f55-b1d0-e49772ba5e02",
   "metadata": {},
   "outputs": [
    {
     "name": "stdout",
     "output_type": "stream",
     "text": [
      "[1, 2, 3, 4, 44, 55, 66, 34, 56, 78, 89, 34, 1, 2, 3, 1, 34, 55, 67, 78, 89, 4, 45, 22, 61, 34, 56]\n"
     ]
    }
   ],
   "source": [
    "#Solution\n",
    "flat_list = []\n",
    "for items in list1:\n",
    "    if type(items) == int:\n",
    "        flat_list.append(items)\n",
    "    elif type(items) == list:\n",
    "        for sub_item in items:\n",
    "            if type(sub_item) == int:\n",
    "                flat_list.append(sub_item)\n",
    "    elif type(items) == str:\n",
    "        pass\n",
    "    elif type(items) == tuple:\n",
    "        for sub_item in items:\n",
    "            if type(sub_item) == int:\n",
    "                flat_list.append(sub_item)\n",
    "    elif type(items) == set:\n",
    "        for sub_item in items:\n",
    "            if type(sub_item) == int:\n",
    "                flat_list.append(sub_item)\n",
    "    elif type(items) == dict:\n",
    "        for sub_item in items:\n",
    "            if type(sub_item) == int:\n",
    "                flat_list.append(sub_item)\n",
    "            if type(items[sub_item]) == int:\n",
    "                flat_list.append(items[sub_item])\n",
    "            if type(sub_item) == str:\n",
    "                pass\n",
    "            if type(items[sub_item]) == list or type(items[sub_item]) == tuple:\n",
    "                for i in items[sub_item]:\n",
    "                    flat_list.append(i)\n",
    "    elif type(items) == list:\n",
    "        for sub_item in items:\n",
    "            if type(sub_item) == int:\n",
    "                flat_list.append(sub_item)\n",
    "    else:\n",
    "        pass\n",
    "\n",
    "print(flat_list)\n",
    "     "
   ]
  },
  {
   "cell_type": "markdown",
   "id": "9b72df4b-c98e-42fa-9404-79cae7023908",
   "metadata": {},
   "source": [
    "Q2. Write a python program for encrypting a message sent to you by your friend. The logic of encryption\n",
    "should be such that, for a the output should be z. For b, the output should be y. For c, the output should\n",
    "be x respectively. Also, the whitespace should be replaced with a dollar sign. Keep the punctuation\n",
    "marks unchanged.\n",
    "Input Sentence: I want to become a Data Scientist.\n",
    "Encrypt the above input sentence using the program you just created.\n",
    "Note: Convert the given input sentence into lowercase before encrypting. The final output should be\n",
    "lowercase."
   ]
  },
  {
   "cell_type": "code",
   "execution_count": 17,
   "id": "1460af17-a43c-4cfb-87f7-c4b4c3e81122",
   "metadata": {},
   "outputs": [
    {
     "name": "stdout",
     "output_type": "stream",
     "text": [
      "Original message: I want to become a Data Scientist.\n",
      "Encrypted message: r$dzmg$gl$yvxlnv$z$wzgz$hxrvmgrhg.\n"
     ]
    }
   ],
   "source": [
    "#SOLution\n",
    "def encrypt_message(message):\n",
    "    message = message.lower()\n",
    "    encrypted_message = \"\"\n",
    "    for char in message:\n",
    "        if char == \" \":\n",
    "            encrypted_message += \"$\"\n",
    "        elif char.isalpha():\n",
    "            encrypted_message += chr(122 - ord(char) + 97)\n",
    "        else:\n",
    "            encrypted_message += char\n",
    "    return encrypted_message\n",
    "\n",
    "# Test the function with a sample message\n",
    "sample_message = \"I want to become a Data Scientist.\"\n",
    "print(\"Original message:\", sample_message)\n",
    "print(\"Encrypted message:\", encrypt_message(sample_message))"
   ]
  },
  {
   "cell_type": "code",
   "execution_count": 15,
   "id": "a544cca7-20d2-4c32-913b-1f5a3c9f843c",
   "metadata": {},
   "outputs": [],
   "source": [
    "\n",
    "        "
   ]
  }
 ],
 "metadata": {
  "kernelspec": {
   "display_name": "Python 3 (ipykernel)",
   "language": "python",
   "name": "python3"
  },
  "language_info": {
   "codemirror_mode": {
    "name": "ipython",
    "version": 3
   },
   "file_extension": ".py",
   "mimetype": "text/x-python",
   "name": "python",
   "nbconvert_exporter": "python",
   "pygments_lexer": "ipython3",
   "version": "3.10.8"
  }
 },
 "nbformat": 4,
 "nbformat_minor": 5
}
